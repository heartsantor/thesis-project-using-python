{
 "cells": [
  {
   "cell_type": "markdown",
   "metadata": {
    "_cell_guid": "00581234-679e-c121-41db-00ca53b047b1"
   },
   "source": [
    "# predictive Analysis on commercial success of games"
   ]
  },
  {
   "cell_type": "code",
   "execution_count": 1,
   "metadata": {},
   "outputs": [],
   "source": [
    "import pandas as pd\n",
    "import numpy as np\n",
    "import matplotlib.pyplot as plt\n",
    "import seaborn as sns\n",
    "import calendar\n",
    "from datetime import datetime\n",
    "from pandas import Series\n",
    "from math import ceil\n",
    "\n",
    "from sklearn.model_selection import train_test_split\n",
    "from sklearn.linear_model import LogisticRegression\n",
    "from sklearn.ensemble import RandomForestClassifier\n",
    "from sklearn.metrics import classification_report,confusion_matrix"
   ]
  },
  {
   "cell_type": "code",
   "execution_count": 2,
   "metadata": {
    "_cell_guid": "7f36435a-19ff-47df-5bca-4692305883f7"
   },
   "outputs": [
    {
     "data": {
      "text/html": [
       "<div>\n",
       "<style scoped>\n",
       "    .dataframe tbody tr th:only-of-type {\n",
       "        vertical-align: middle;\n",
       "    }\n",
       "\n",
       "    .dataframe tbody tr th {\n",
       "        vertical-align: top;\n",
       "    }\n",
       "\n",
       "    .dataframe thead th {\n",
       "        text-align: right;\n",
       "    }\n",
       "</style>\n",
       "<table border=\"1\" class=\"dataframe\">\n",
       "  <thead>\n",
       "    <tr style=\"text-align: right;\">\n",
       "      <th></th>\n",
       "      <th>Name</th>\n",
       "      <th>Year_of_Release</th>\n",
       "      <th>Genre</th>\n",
       "      <th>Publisher</th>\n",
       "      <th>Critic_Score</th>\n",
       "      <th>ESRB_Rating</th>\n",
       "      <th>Global_Sale</th>\n",
       "    </tr>\n",
       "  </thead>\n",
       "  <tbody>\n",
       "    <tr>\n",
       "      <th>0</th>\n",
       "      <td>Monster Hunter Rise</td>\n",
       "      <td>2022.0</td>\n",
       "      <td>Card Game,Action,Role-Playing,Adventure,Explor...</td>\n",
       "      <td>Capcom</td>\n",
       "      <td>88.0</td>\n",
       "      <td>M</td>\n",
       "      <td>11.200000</td>\n",
       "    </tr>\n",
       "    <tr>\n",
       "      <th>1</th>\n",
       "      <td>The Anacrusis</td>\n",
       "      <td>2022.0</td>\n",
       "      <td>Shooter</td>\n",
       "      <td>Stray Bombay Company</td>\n",
       "      <td>51.0</td>\n",
       "      <td>T</td>\n",
       "      <td>0.200000</td>\n",
       "    </tr>\n",
       "    <tr>\n",
       "      <th>2</th>\n",
       "      <td>God of War</td>\n",
       "      <td>2022.0</td>\n",
       "      <td>Action</td>\n",
       "      <td>PlayStation PC</td>\n",
       "      <td>94.0</td>\n",
       "      <td>M</td>\n",
       "      <td>60.000128</td>\n",
       "    </tr>\n",
       "    <tr>\n",
       "      <th>3</th>\n",
       "      <td>Rainbow Six Extraction</td>\n",
       "      <td>2022.0</td>\n",
       "      <td>Action</td>\n",
       "      <td>Ubisoft</td>\n",
       "      <td>71.0</td>\n",
       "      <td>M</td>\n",
       "      <td>9.000000</td>\n",
       "    </tr>\n",
       "    <tr>\n",
       "      <th>4</th>\n",
       "      <td>Windjammers 2</td>\n",
       "      <td>2022.0</td>\n",
       "      <td>Sports</td>\n",
       "      <td>DotEmu</td>\n",
       "      <td>78.0</td>\n",
       "      <td>E</td>\n",
       "      <td>0.040688</td>\n",
       "    </tr>\n",
       "    <tr>\n",
       "      <th>...</th>\n",
       "      <td>...</td>\n",
       "      <td>...</td>\n",
       "      <td>...</td>\n",
       "      <td>...</td>\n",
       "      <td>...</td>\n",
       "      <td>...</td>\n",
       "      <td>...</td>\n",
       "    </tr>\n",
       "    <tr>\n",
       "      <th>17411</th>\n",
       "      <td>Nancy Drew: The Deadly Secret of Olde World Park</td>\n",
       "      <td>2007.0</td>\n",
       "      <td>Adventure</td>\n",
       "      <td>Majesco Entertainment</td>\n",
       "      <td>64.0</td>\n",
       "      <td>E</td>\n",
       "      <td>0.010000</td>\n",
       "    </tr>\n",
       "    <tr>\n",
       "      <th>17412</th>\n",
       "      <td>Fashion Designer: Style Icon</td>\n",
       "      <td>2007.0</td>\n",
       "      <td>Simulation</td>\n",
       "      <td>505 Games</td>\n",
       "      <td>NaN</td>\n",
       "      <td>NaN</td>\n",
       "      <td>0.010000</td>\n",
       "    </tr>\n",
       "    <tr>\n",
       "      <th>17413</th>\n",
       "      <td>Ashita no Joe 2: The Anime Super Remix</td>\n",
       "      <td>2002.0</td>\n",
       "      <td>Fighting</td>\n",
       "      <td>Capcom</td>\n",
       "      <td>NaN</td>\n",
       "      <td>NaN</td>\n",
       "      <td>0.010000</td>\n",
       "    </tr>\n",
       "    <tr>\n",
       "      <th>17414</th>\n",
       "      <td>NadePro!! Kisama no Seiyuu Yatte Miro!</td>\n",
       "      <td>2009.0</td>\n",
       "      <td>Adventure</td>\n",
       "      <td>GungHo</td>\n",
       "      <td>NaN</td>\n",
       "      <td>NaN</td>\n",
       "      <td>0.010000</td>\n",
       "    </tr>\n",
       "    <tr>\n",
       "      <th>17415</th>\n",
       "      <td>Brian Lara 2007 Pressure Play</td>\n",
       "      <td>2007.0</td>\n",
       "      <td>Sports</td>\n",
       "      <td>Codemasters</td>\n",
       "      <td>NaN</td>\n",
       "      <td>NaN</td>\n",
       "      <td>0.010000</td>\n",
       "    </tr>\n",
       "  </tbody>\n",
       "</table>\n",
       "<p>17416 rows × 7 columns</p>\n",
       "</div>"
      ],
      "text/plain": [
       "                                                   Name  Year_of_Release  \\\n",
       "0                                   Monster Hunter Rise           2022.0   \n",
       "1                                         The Anacrusis           2022.0   \n",
       "2                                            God of War           2022.0   \n",
       "3                                Rainbow Six Extraction           2022.0   \n",
       "4                                         Windjammers 2           2022.0   \n",
       "...                                                 ...              ...   \n",
       "17411  Nancy Drew: The Deadly Secret of Olde World Park           2007.0   \n",
       "17412                      Fashion Designer: Style Icon           2007.0   \n",
       "17413            Ashita no Joe 2: The Anime Super Remix           2002.0   \n",
       "17414            NadePro!! Kisama no Seiyuu Yatte Miro!           2009.0   \n",
       "17415                     Brian Lara 2007 Pressure Play           2007.0   \n",
       "\n",
       "                                                   Genre  \\\n",
       "0      Card Game,Action,Role-Playing,Adventure,Explor...   \n",
       "1                                                Shooter   \n",
       "2                                                 Action   \n",
       "3                                                 Action   \n",
       "4                                                 Sports   \n",
       "...                                                  ...   \n",
       "17411                                          Adventure   \n",
       "17412                                         Simulation   \n",
       "17413                                           Fighting   \n",
       "17414                                          Adventure   \n",
       "17415                                             Sports   \n",
       "\n",
       "                   Publisher  Critic_Score ESRB_Rating  Global_Sale  \n",
       "0                     Capcom          88.0           M    11.200000  \n",
       "1       Stray Bombay Company          51.0           T     0.200000  \n",
       "2             PlayStation PC          94.0           M    60.000128  \n",
       "3                    Ubisoft          71.0           M     9.000000  \n",
       "4                     DotEmu          78.0           E     0.040688  \n",
       "...                      ...           ...         ...          ...  \n",
       "17411  Majesco Entertainment          64.0           E     0.010000  \n",
       "17412              505 Games           NaN         NaN     0.010000  \n",
       "17413                 Capcom           NaN         NaN     0.010000  \n",
       "17414                 GungHo           NaN         NaN     0.010000  \n",
       "17415            Codemasters           NaN         NaN     0.010000  \n",
       "\n",
       "[17416 rows x 7 columns]"
      ]
     },
     "execution_count": 2,
     "metadata": {},
     "output_type": "execute_result"
    }
   ],
   "source": [
    "df = pd.read_csv('multipleGenerDataSet.csv', encoding=\"utf-8\")\n",
    "df"
   ]
  },
  {
   "cell_type": "code",
   "execution_count": 3,
   "metadata": {},
   "outputs": [
    {
     "data": {
      "text/plain": [
       "Name                  0\n",
       "Year_of_Release       8\n",
       "Genre                 0\n",
       "Publisher             1\n",
       "Critic_Score       9054\n",
       "ESRB_Rating        7138\n",
       "Global_Sale           0\n",
       "dtype: int64"
      ]
     },
     "execution_count": 3,
     "metadata": {},
     "output_type": "execute_result"
    }
   ],
   "source": [
    "df.isnull().sum()"
   ]
  },
  {
   "cell_type": "code",
   "execution_count": 4,
   "metadata": {},
   "outputs": [
    {
     "data": {
      "text/plain": [
       "Name               0\n",
       "Year_of_Release    0\n",
       "Genre              0\n",
       "Publisher          0\n",
       "Critic_Score       0\n",
       "ESRB_Rating        0\n",
       "Global_Sale        0\n",
       "dtype: int64"
      ]
     },
     "execution_count": 4,
     "metadata": {},
     "output_type": "execute_result"
    }
   ],
   "source": [
    "df = df.dropna(axis=0)\n",
    "df.isnull().sum()"
   ]
  },
  {
   "cell_type": "markdown",
   "metadata": {
    "_cell_guid": "07873f7b-c865-06a0-17ae-f06084e032a2"
   },
   "source": [
    "## Defining hits as those with sales above 1 million units"
   ]
  },
  {
   "cell_type": "code",
   "execution_count": 5,
   "metadata": {
    "_cell_guid": "9ddc2112-4c80-a177-deba-3164cb2cd3b9"
   },
   "outputs": [],
   "source": [
    "dfb = df[['Name','ESRB_Rating','Genre','Publisher','Year_of_Release','Critic_Score','Global_Sale']]\n",
    "dfb = dfb.dropna().reset_index(drop=True)\n",
    "df2 = dfb[['ESRB_Rating','Genre','Publisher','Year_of_Release','Critic_Score','Global_Sale']]\n",
    "df2['Hit'] = df2['Global_Sale']\n",
    "df2.drop('Global_Sale', axis=1, inplace=True)"
   ]
  },
  {
   "cell_type": "code",
   "execution_count": 6,
   "metadata": {
    "_cell_guid": "8bf080d2-1e79-d8f8-7a5e-f7581ac12dc5"
   },
   "outputs": [],
   "source": [
    "def hit(sales):\n",
    "    if sales >= 1:\n",
    "        return 1\n",
    "    else:\n",
    "        return 0\n",
    "\n",
    "df2['Hit'] = df2['Hit'].apply(lambda x: hit(x))"
   ]
  },
  {
   "cell_type": "markdown",
   "metadata": {
    "_cell_guid": "2648a78b-fcff-0719-26c4-acbbc3f27bcb"
   },
   "source": [
    "## Generating features"
   ]
  },
  {
   "cell_type": "code",
   "execution_count": 7,
   "metadata": {
    "_cell_guid": "9934342e-e40c-7e27-355e-d5da2a22aed6"
   },
   "outputs": [
    {
     "data": {
      "text/plain": [
       "Index(['ESRB_Rating', 'Publisher', 'Year_of_Release', 'Critic_Score', 'Hit',\n",
       "       'Action', 'Action-Adventure', 'Adventure', 'Arcade', 'Card Game',\n",
       "       'Combat', 'Comedy', 'Compilation', 'Cooperative', 'Crime',\n",
       "       'Customization', 'Decision-making', 'Driving', 'Environments',\n",
       "       'Exploration', 'Fantasy', 'Fighting', 'Flight', 'Graphics',\n",
       "       'Historical Fiction', 'MMO', 'Management', 'Misc', 'Multiplayer',\n",
       "       'Music', 'Narrative', 'Open World', 'Open-World', 'Parkour', 'Platform',\n",
       "       'Platformer', 'Puzzle', 'Puzzle-Solving', 'RPG', 'Racing', 'Real-Time',\n",
       "       'Role-Playing', 'Role-playing', 'Shooter', 'Simulation', 'Sports',\n",
       "       'Stealth', 'Storytelling', 'Strategy', 'Superhero', 'Survival',\n",
       "       'Tactical RPG', 'Timing', 'Virtual Reality'],\n",
       "      dtype='object')"
      ]
     },
     "execution_count": 7,
     "metadata": {},
     "output_type": "execute_result"
    }
   ],
   "source": [
    "\n",
    "\n",
    "df3=df2['Genre'].str.get_dummies(sep = ',')\n",
    "df4=pd.concat([df2,df3], axis=1)\n",
    "df4.drop('Genre', axis=1, inplace=True)\n",
    "df4.columns"
   ]
  },
  {
   "cell_type": "code",
   "execution_count": 8,
   "metadata": {},
   "outputs": [
    {
     "data": {
      "text/plain": [
       "Index(['Year_of_Release', 'Critic_Score', 'Hit', 'Action', 'Action-Adventure',\n",
       "       'Adventure', 'Arcade', 'Card Game', 'Combat', 'Comedy',\n",
       "       ...\n",
       "       'Publisher_Yacht Club Games',\n",
       "       'Publisher_YooStar Entertainment Group Inc.', 'Publisher_Yukes',\n",
       "       'Publisher_Zoo Digital Publishing', 'Publisher_Zoo Games',\n",
       "       'Publisher_Zushi Games', 'Publisher_bitComposer Games',\n",
       "       'Publisher_id Software', 'Publisher_inXile Entertainment',\n",
       "       'Publisher_tinyBuild'],\n",
       "      dtype='object', length=416)"
      ]
     },
     "execution_count": 8,
     "metadata": {},
     "output_type": "execute_result"
    }
   ],
   "source": [
    "from pandas import get_dummies\n",
    "df5 = pd.get_dummies(df4)\n",
    "df5.columns"
   ]
  },
  {
   "cell_type": "code",
   "execution_count": null,
   "metadata": {
    "_cell_guid": "8c4750a1-df7a-205c-f423-d706392719a6",
    "scrolled": true
   },
   "outputs": [],
   "source": []
  },
  {
   "cell_type": "markdown",
   "metadata": {},
   "source": [
    "## Split Data & Traning"
   ]
  },
  {
   "cell_type": "code",
   "execution_count": 9,
   "metadata": {
    "_cell_guid": "d4cfe712-e976-101a-d3b9-6eb4b39e1d84"
   },
   "outputs": [],
   "source": [
    "\n",
    "y = df5['Hit'].values\n",
    "df5 = df5.drop(['Hit'],axis=1)\n",
    "X = df5.values"
   ]
  },
  {
   "cell_type": "code",
   "execution_count": 10,
   "metadata": {
    "_cell_guid": "b4fb517a-6d81-1c50-7458-14cf44c1335a"
   },
   "outputs": [],
   "source": [
    "Xtrain, Xtest, ytrain, ytest = train_test_split(X, y, test_size=0.33, random_state=2)"
   ]
  },
  {
   "cell_type": "markdown",
   "metadata": {
    "_cell_guid": "09c01790-44da-8ec6-6208-a4979c15d466"
   },
   "source": [
    "## Testing prediction accuracy with LR and RFC"
   ]
  },
  {
   "cell_type": "code",
   "execution_count": 11,
   "metadata": {
    "_cell_guid": "eccc07f6-2c2a-4f06-0da7-ad95e1c5f107"
   },
   "outputs": [
    {
     "name": "stdout",
     "output_type": "stream",
     "text": [
      "Random Forest Validation accuracy:  0.8383431085043989\n"
     ]
    }
   ],
   "source": [
    "radm = RandomForestClassifier(random_state=2).fit(Xtrain, ytrain)\n",
    "y_val_1 = radm.predict_proba(Xtest)\n",
    "print(\"Random Forest Validation accuracy: \", sum(pd.DataFrame(y_val_1).idxmax(axis=1).values\n",
    "                                   == ytest)/len(ytest))"
   ]
  },
  {
   "cell_type": "code",
   "execution_count": 12,
   "metadata": {
    "_cell_guid": "58688c6d-3fb7-6efb-003b-202819d6837d"
   },
   "outputs": [
    {
     "name": "stdout",
     "output_type": "stream",
     "text": [
      "Logistic Regression Validation accuracy:  0.8464076246334311\n"
     ]
    }
   ],
   "source": [
    "log_reg = LogisticRegression(max_iter=3000).fit(Xtrain, ytrain)\n",
    "y_val_2 = log_reg.predict_proba(Xtest)\n",
    "print(\"Logistic Regression Validation accuracy: \", sum(pd.DataFrame(y_val_2).idxmax(axis=1).values==ytest)/len(ytest))"
   ]
  },
  {
   "cell_type": "code",
   "execution_count": 13,
   "metadata": {
    "_cell_guid": "f95e8b09-d866-f361-55ab-fbaa71849bef"
   },
   "outputs": [
    {
     "name": "stdout",
     "output_type": "stream",
     "text": [
      "              precision    recall  f1-score   support\n",
      "\n",
      "           0       0.86      0.98      0.91      2280\n",
      "           1       0.61      0.18      0.28       448\n",
      "\n",
      "    accuracy                           0.85      2728\n",
      "   macro avg       0.73      0.58      0.60      2728\n",
      "weighted avg       0.82      0.85      0.81      2728\n",
      "\n"
     ]
    }
   ],
   "source": [
    "all_predictions = log_reg.predict(Xtest)\n",
    "print(classification_report(ytest, all_predictions))"
   ]
  },
  {
   "cell_type": "code",
   "execution_count": 14,
   "metadata": {
    "_cell_guid": "c6fda198-6971-ab71-b6c6-357e9b0a15c4"
   },
   "outputs": [
    {
     "data": {
      "text/plain": [
       "Text(0.5, 1.0, 'Training Confusion Matrix')"
      ]
     },
     "execution_count": 14,
     "metadata": {},
     "output_type": "execute_result"
    },
    {
     "data": {
      "image/png": "[encoded data removed]",
      "text/plain": [
       "<Figure size 350x250 with 2 Axes>"
      ]
     },
     "metadata": {},
     "output_type": "display_data"
    }
   ],
   "source": [
    "fig, ax = plt.subplots(figsize=(3.5,2.5))\n",
    "sns.heatmap(confusion_matrix(ytest, all_predictions), annot=True, linewidths=.5, ax=ax, fmt=\"d\").set(xlabel='Predicted Value', ylabel='Expected Value')\n",
    "plt.title('Training Confusion Matrix')"
   ]
  },
  {
   "cell_type": "code",
   "execution_count": null,
   "metadata": {},
   "outputs": [],
   "source": []
  }
 ],
 "metadata": {
  "_change_revision": 169,
  "_is_fork": false,
  "kernelspec": {
   "display_name": "Python 3 (ipykernel)",
   "language": "python",
   "name": "python3"
  },
  "language_info": {
   "codemirror_mode": {
    "name": "ipython",
    "version": 3
   },
   "file_extension": ".py",
   "mimetype": "text/x-python",
   "name": "python",
   "nbconvert_exporter": "python",
   "pygments_lexer": "ipython3",
   "version": "3.9.13"
  }
 },
 "nbformat": 4,
 "nbformat_minor": 1
}
